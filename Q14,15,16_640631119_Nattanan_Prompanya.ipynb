{
  "nbformat": 4,
  "nbformat_minor": 0,
  "metadata": {
    "colab": {
      "name": "Q14,15,16_640631119_Nattanan Prompanya.ipynb",
      "provenance": [],
      "authorship_tag": "ABX9TyNmQXQjD/AgYWl6K0XIGN8L",
      "include_colab_link": true
    },
    "kernelspec": {
      "name": "python3",
      "display_name": "Python 3"
    },
    "language_info": {
      "name": "python"
    }
  },
  "cells": [
    {
      "cell_type": "markdown",
      "metadata": {
        "id": "view-in-github",
        "colab_type": "text"
      },
      "source": [
        "<a href=\"https://colab.research.google.com/github/nattanan13/-nattanan/blob/main/Q14%2C15%2C16_640631119_Nattanan_Prompanya.ipynb\" target=\"_parent\"><img src=\"https://colab.research.google.com/assets/colab-badge.svg\" alt=\"Open In Colab\"/></a>"
      ]
    },
    {
      "cell_type": "markdown",
      "metadata": {
        "id": "friHUkT9pTlD"
      },
      "source": [
        "\n",
        "Q14:Try this"
      ]
    },
    {
      "cell_type": "code",
      "metadata": {
        "id": "028YujB3pE4s"
      },
      "source": [
        "import numpy as np\n",
        "from scipy.linalg import solve\n",
        "A = np.array([[1., 2.], [3., 4.]])\n",
        "b = np.array([1., 4.])\n",
        "x = solve(A,b)"
      ],
      "execution_count": 1,
      "outputs": []
    },
    {
      "cell_type": "code",
      "metadata": {
        "colab": {
          "base_uri": "https://localhost:8080/"
        },
        "id": "ZRy45LjEpG3_",
        "outputId": "27f7b67b-901c-4a7d-8890-802ee0579d6c"
      },
      "source": [
        "print(x)"
      ],
      "execution_count": 2,
      "outputs": [
        {
          "output_type": "stream",
          "text": [
            "[ 2.  -0.5]\n"
          ],
          "name": "stdout"
        }
      ]
    },
    {
      "cell_type": "markdown",
      "metadata": {
        "id": "Nh3lwd3BpaOW"
      },
      "source": [
        "Q15: Create a Matrix X(4x3)"
      ]
    },
    {
      "cell_type": "code",
      "metadata": {
        "colab": {
          "base_uri": "https://localhost:8080/"
        },
        "id": "gxFSw4PPpLdR",
        "outputId": "2094a68a-c8cf-4510-9459-62d793aeabdd"
      },
      "source": [
        "\n",
        "X = np.array([[1., 2., 3.], [4., 5., 6.], [7., 8., 9.], [10., 11., 12.]])\n",
        "print(X)"
      ],
      "execution_count": 3,
      "outputs": [
        {
          "output_type": "stream",
          "text": [
            "[[ 1.  2.  3.]\n",
            " [ 4.  5.  6.]\n",
            " [ 7.  8.  9.]\n",
            " [10. 11. 12.]]\n"
          ],
          "name": "stdout"
        }
      ]
    },
    {
      "cell_type": "markdown",
      "metadata": {
        "id": "P6Urzny3pgjj"
      },
      "source": [
        "\n",
        "Q16: Create Matrix Aij"
      ]
    },
    {
      "cell_type": "code",
      "metadata": {
        "colab": {
          "base_uri": "https://localhost:8080/"
        },
        "id": "cVDvcJaVpSn8",
        "outputId": "6e3f96f4-0de0-45ae-b061-9eae256e6972"
      },
      "source": [
        "#matrix(m,n)\n",
        "#m = row\n",
        "#n = column\n",
        "#i  in m\n",
        "#j in n\n",
        "#3 case\n",
        "\n",
        "c = []\n",
        "\n",
        "def matrix(m,n):\n",
        "  for i in range(m) :\n",
        "    b = []\n",
        "    for j in range(n) :\n",
        "      if i<j and j!=m :\n",
        "        a = 0\n",
        "      elif i==j or j==m :\n",
        "        a = 1\n",
        "      else:\n",
        "        a = -1\n",
        "      b.append(a)   \n",
        "    c.append(b)\n",
        "\n",
        "  print(np.array(c))\n",
        "\n",
        "\n",
        "matrix(5,5)"
      ],
      "execution_count": 6,
      "outputs": [
        {
          "output_type": "stream",
          "text": [
            "[[ 1  0  0  0  0]\n",
            " [-1  1  0  0  0]\n",
            " [-1 -1  1  0  0]\n",
            " [-1 -1 -1  1  0]\n",
            " [-1 -1 -1 -1  1]]\n"
          ],
          "name": "stdout"
        }
      ]
    }
  ]
}