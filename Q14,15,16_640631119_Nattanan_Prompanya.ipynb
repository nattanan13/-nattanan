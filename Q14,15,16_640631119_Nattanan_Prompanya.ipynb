{
  "nbformat": 4,
  "nbformat_minor": 0,
  "metadata": {
    "colab": {
      "name": "Q14,15,16_640631119_Nattanan Prompanya.ipynb",
      "provenance": [],
      "authorship_tag": "ABX9TyNiq6pcyVs0dfKealLJhgqi",
      "include_colab_link": true
    },
    "kernelspec": {
      "name": "python3",
      "display_name": "Python 3"
    },
    "language_info": {
      "name": "python"
    }
  },
  "cells": [
    {
      "cell_type": "markdown",
      "metadata": {
        "id": "view-in-github",
        "colab_type": "text"
      },
      "source": [
        "<a href=\"https://colab.research.google.com/github/nattanan13/-nattanan/blob/main/Q14%2C15%2C16_640631119_Nattanan_Prompanya.ipynb\" target=\"_parent\"><img src=\"https://colab.research.google.com/assets/colab-badge.svg\" alt=\"Open In Colab\"/></a>"
      ]
    },
    {
      "cell_type": "markdown",
      "metadata": {
        "id": "MV37KIjUM6kz"
      },
      "source": [
        "Q14:Try this"
      ]
    },
    {
      "cell_type": "code",
      "metadata": {
        "id": "xlRRBeccL0QS"
      },
      "source": [
        "import numpy as np\n",
        "from scipy.linalg import solve\n",
        "A = np.array([[1., 2.], [3., 4.]])\n",
        "b = np.array([1., 4.])\n",
        "x = solve(A,b)\n"
      ],
      "execution_count": 64,
      "outputs": []
    },
    {
      "cell_type": "code",
      "metadata": {
        "id": "eV8uMx8-MSoR"
      },
      "source": [
        "print(A)"
      ],
      "execution_count": null,
      "outputs": []
    },
    {
      "cell_type": "code",
      "metadata": {
        "id": "lRJucXTHM3H9"
      },
      "source": [
        "print(B)"
      ],
      "execution_count": null,
      "outputs": []
    },
    {
      "cell_type": "code",
      "metadata": {
        "id": "XYJCOTZyMebt"
      },
      "source": [
        "print(x)"
      ],
      "execution_count": null,
      "outputs": []
    },
    {
      "cell_type": "markdown",
      "metadata": {
        "id": "LZxHIVU8XtbO"
      },
      "source": [
        "Q15: Create a Matrix X(4x3)"
      ]
    },
    {
      "cell_type": "code",
      "metadata": {
        "id": "P0jSYIJFMrB1"
      },
      "source": [
        "X = np.array([[1., 2., 3.], [4., 5., 6.], [7., 8., 9.], [10., 11., 12.]])\n",
        "print(X)"
      ],
      "execution_count": null,
      "outputs": []
    },
    {
      "cell_type": "markdown",
      "metadata": {
        "id": "AmCltNb9NWKq"
      },
      "source": [
        "Q16: Create Matrix Aij\n"
      ]
    },
    {
      "cell_type": "code",
      "metadata": {
        "id": "6cT4bzmrTcA5"
      },
      "source": [
        "#matrix(m,n)\n",
        "#m = row\n",
        "#n = column\n",
        "#i  in m\n",
        "#j in n\n",
        "#3 case\n",
        "\n",
        "c = []\n",
        "\n",
        "def matrix(m,n):\n",
        "  for i in range(m) :\n",
        "    b = []\n",
        "    for j in range(n) :\n",
        "      if i<j and j!=m-1 :\n",
        "        a = 0\n",
        "      elif i==j or j==m-1 :\n",
        "        a = 1\n",
        "      else:\n",
        "        a = -1\n",
        "      b.append(a)   \n",
        "    c.append(b)\n",
        "\n",
        "  print(np.array(c))\n",
        "\n",
        "\n",
        "matrix(3,8)\n"
      ],
      "execution_count": null,
      "outputs": []
    }
  ]
}