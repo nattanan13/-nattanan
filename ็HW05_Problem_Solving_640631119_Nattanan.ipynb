{
  "nbformat": 4,
  "nbformat_minor": 0,
  "metadata": {
    "colab": {
      "name": "็HW05: Problem Solving_640631119_Nattanan.ipynb",
      "provenance": [],
      "authorship_tag": "ABX9TyNwsfoZGfgGJAYZSegdWStv",
      "include_colab_link": true
    },
    "kernelspec": {
      "name": "python3",
      "display_name": "Python 3"
    },
    "language_info": {
      "name": "python"
    }
  },
  "cells": [
    {
      "cell_type": "markdown",
      "metadata": {
        "id": "view-in-github",
        "colab_type": "text"
      },
      "source": [
        "<a href=\"https://colab.research.google.com/github/nattanan13/-nattanan/blob/main/%E0%B9%87HW05_Problem_Solving_640631119_Nattanan.ipynb\" target=\"_parent\"><img src=\"https://colab.research.google.com/assets/colab-badge.svg\" alt=\"Open In Colab\"/></a>"
      ]
    },
    {
      "cell_type": "code",
      "metadata": {
        "colab": {
          "base_uri": "https://localhost:8080/"
        },
        "id": "6RjGFQtoBkj3",
        "outputId": "35ef4a53-338c-4987-fe1f-526064b13130"
      },
      "source": [
        "import numpy as np\n",
        "import cvxpy as cp\n",
        "\n",
        "#x1 = vanilla ice cream\n",
        "#x2 = strawberry ice cream\n",
        "\n",
        "x1 = cp.Variable()\n",
        "x2 = cp.Variable()\n",
        "\n",
        "# Objective function\n",
        "#x1 -> 2$\n",
        "#x2 -> 3$\n",
        "Max_Profit = cp.Maximize(2*x1 + 3*x2)\n",
        "\n",
        "# Constraints \n",
        "#x1 -> 0.5 liter, x2 -> 0.2 liter\n",
        "# 30 dolls per day\n",
        "#x1, x2 >= 0 \n",
        "constraints = [ 0.5*x1 + 0.2*x2 <= 10,\n",
        "                     x1 + x2 <= 30, \n",
        "                     x1 >= 0, x2 >= 0 ]\n",
        "\n",
        "# Solve problem\n",
        "# prob = cp.Problem(obj, constraints)\n",
        "prob = cp.Problem(Max_Profit, constraints)\n",
        "prob.solve() # Returns the optimal value.\n",
        "\n",
        "print(\"Maximum profit: $\", np.round(prob.value))\n",
        "print(\"produce\", int(np.round(x1.value)), \"box of vanila ice cream\")\n",
        "print(\"produce\", int(np.round(x2.value)), \"boxes of strawberry ice cream\")"
      ],
      "execution_count": 7,
      "outputs": [
        {
          "output_type": "stream",
          "text": [
            "Maximum profit: $ 90.0\n",
            "produce 0 box of vanila ice cream\n",
            "produce 30 boxes of strawberry ice cream\n"
          ],
          "name": "stdout"
        }
      ]
    },
    {
      "cell_type": "code",
      "metadata": {
        "id": "LmUuwTlUB9-I"
      },
      "source": [
        ""
      ],
      "execution_count": null,
      "outputs": []
    }
  ]
}